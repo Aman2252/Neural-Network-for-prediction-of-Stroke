{
 "cells": [
  {
   "cell_type": "code",
   "execution_count": 206,
   "id": "99a8da3c",
   "metadata": {},
   "outputs": [],
   "source": [
    "import numpy as np\n",
    "import pandas as pd\n",
    "import matplotlib.pyplot as plt\n",
    "%matplotlib inline"
   ]
  },
  {
   "cell_type": "code",
   "execution_count": 2,
   "id": "4e3207e2",
   "metadata": {},
   "outputs": [
    {
     "name": "stdout",
     "output_type": "stream",
     "text": [
      "7\n",
      "1\n",
      "4008\n",
      "1200\n"
     ]
    }
   ],
   "source": [
    "inp=int(input())\n",
    "out=int(input())\n",
    "train_pattern=int(input())\n",
    "test_pattern=int(input())"
   ]
  },
  {
   "cell_type": "markdown",
   "id": "2a5115fc",
   "metadata": {},
   "source": [
    "# Data Reading from File"
   ]
  },
  {
   "cell_type": "code",
   "execution_count": 3,
   "id": "b022dc7e",
   "metadata": {},
   "outputs": [],
   "source": [
    "df_train=pd.read_csv('healthcare-dataset-stroke-data.csv')"
   ]
  },
  {
   "cell_type": "code",
   "execution_count": 672,
   "id": "db43db71",
   "metadata": {},
   "outputs": [
    {
     "data": {
      "text/html": [
       "<div>\n",
       "<style scoped>\n",
       "    .dataframe tbody tr th:only-of-type {\n",
       "        vertical-align: middle;\n",
       "    }\n",
       "\n",
       "    .dataframe tbody tr th {\n",
       "        vertical-align: top;\n",
       "    }\n",
       "\n",
       "    .dataframe thead th {\n",
       "        text-align: right;\n",
       "    }\n",
       "</style>\n",
       "<table border=\"1\" class=\"dataframe\">\n",
       "  <thead>\n",
       "    <tr style=\"text-align: right;\">\n",
       "      <th></th>\n",
       "      <th>gender</th>\n",
       "      <th>age</th>\n",
       "      <th>hypertension</th>\n",
       "      <th>heart_disease</th>\n",
       "      <th>avg_glucose_level</th>\n",
       "      <th>bmi</th>\n",
       "      <th>smoking_status</th>\n",
       "      <th>stroke</th>\n",
       "    </tr>\n",
       "  </thead>\n",
       "  <tbody>\n",
       "    <tr>\n",
       "      <th>0</th>\n",
       "      <td>1</td>\n",
       "      <td>67.0</td>\n",
       "      <td>0</td>\n",
       "      <td>1</td>\n",
       "      <td>228.69</td>\n",
       "      <td>36.6</td>\n",
       "      <td>1</td>\n",
       "      <td>1</td>\n",
       "    </tr>\n",
       "    <tr>\n",
       "      <th>2</th>\n",
       "      <td>1</td>\n",
       "      <td>80.0</td>\n",
       "      <td>0</td>\n",
       "      <td>1</td>\n",
       "      <td>105.92</td>\n",
       "      <td>32.5</td>\n",
       "      <td>0</td>\n",
       "      <td>1</td>\n",
       "    </tr>\n",
       "    <tr>\n",
       "      <th>3</th>\n",
       "      <td>0</td>\n",
       "      <td>49.0</td>\n",
       "      <td>0</td>\n",
       "      <td>0</td>\n",
       "      <td>171.23</td>\n",
       "      <td>34.4</td>\n",
       "      <td>1</td>\n",
       "      <td>1</td>\n",
       "    </tr>\n",
       "    <tr>\n",
       "      <th>4</th>\n",
       "      <td>0</td>\n",
       "      <td>79.0</td>\n",
       "      <td>1</td>\n",
       "      <td>0</td>\n",
       "      <td>174.12</td>\n",
       "      <td>24.0</td>\n",
       "      <td>0</td>\n",
       "      <td>1</td>\n",
       "    </tr>\n",
       "    <tr>\n",
       "      <th>5</th>\n",
       "      <td>1</td>\n",
       "      <td>81.0</td>\n",
       "      <td>0</td>\n",
       "      <td>0</td>\n",
       "      <td>186.21</td>\n",
       "      <td>29.0</td>\n",
       "      <td>1</td>\n",
       "      <td>1</td>\n",
       "    </tr>\n",
       "  </tbody>\n",
       "</table>\n",
       "</div>"
      ],
      "text/plain": [
       "   gender   age  hypertension  heart_disease  avg_glucose_level   bmi  \\\n",
       "0       1  67.0             0              1             228.69  36.6   \n",
       "2       1  80.0             0              1             105.92  32.5   \n",
       "3       0  49.0             0              0             171.23  34.4   \n",
       "4       0  79.0             1              0             174.12  24.0   \n",
       "5       1  81.0             0              0             186.21  29.0   \n",
       "\n",
       "   smoking_status  stroke  \n",
       "0               1       1  \n",
       "2               0       1  \n",
       "3               1       1  \n",
       "4               0       1  \n",
       "5               1       1  "
      ]
     },
     "execution_count": 672,
     "metadata": {},
     "output_type": "execute_result"
    }
   ],
   "source": [
    "df_train.head()"
   ]
  },
  {
   "cell_type": "markdown",
   "id": "9cc22c2e",
   "metadata": {},
   "source": [
    "# Data Cleaning to remove unnecessary Object Rows"
   ]
  },
  {
   "cell_type": "code",
   "execution_count": 5,
   "id": "4f04f5eb",
   "metadata": {},
   "outputs": [],
   "source": [
    "df_train.drop(['id'],axis=1,inplace=True)"
   ]
  },
  {
   "cell_type": "code",
   "execution_count": 6,
   "id": "3b8ce165",
   "metadata": {},
   "outputs": [],
   "source": [
    "df_train.drop(['ever_married','work_type','Residence_type'],axis=1,inplace=True)"
   ]
  },
  {
   "cell_type": "code",
   "execution_count": 10,
   "id": "7b5bda5f",
   "metadata": {},
   "outputs": [],
   "source": [
    "def gender(n):\n",
    "    if n=='Male':\n",
    "        return 1\n",
    "        \n",
    "    else:\n",
    "        return 0"
   ]
  },
  {
   "cell_type": "code",
   "execution_count": 11,
   "id": "7201c2cf",
   "metadata": {},
   "outputs": [],
   "source": [
    "df_train['gender']=df_train['gender'].apply(gender)"
   ]
  },
  {
   "cell_type": "code",
   "execution_count": 15,
   "id": "71d12ae8",
   "metadata": {},
   "outputs": [],
   "source": [
    "def smoke(n):\n",
    "    if n=='formerly smoked' or n=='smokes':\n",
    "        return 1\n",
    "    else:\n",
    "        return 0"
   ]
  },
  {
   "cell_type": "code",
   "execution_count": 16,
   "id": "ef9a1d15",
   "metadata": {},
   "outputs": [],
   "source": [
    "df_train['smoking_status']=df_train['smoking_status'].apply(smoke)"
   ]
  },
  {
   "cell_type": "code",
   "execution_count": 17,
   "id": "8b51a102",
   "metadata": {},
   "outputs": [],
   "source": [
    "df_train.dropna(axis=0,inplace=True)"
   ]
  },
  {
   "cell_type": "code",
   "execution_count": 384,
   "id": "e8376b73",
   "metadata": {},
   "outputs": [
    {
     "data": {
      "text/html": [
       "<div>\n",
       "<style scoped>\n",
       "    .dataframe tbody tr th:only-of-type {\n",
       "        vertical-align: middle;\n",
       "    }\n",
       "\n",
       "    .dataframe tbody tr th {\n",
       "        vertical-align: top;\n",
       "    }\n",
       "\n",
       "    .dataframe thead th {\n",
       "        text-align: right;\n",
       "    }\n",
       "</style>\n",
       "<table border=\"1\" class=\"dataframe\">\n",
       "  <thead>\n",
       "    <tr style=\"text-align: right;\">\n",
       "      <th></th>\n",
       "      <th>gender</th>\n",
       "      <th>age</th>\n",
       "      <th>hypertension</th>\n",
       "      <th>heart_disease</th>\n",
       "      <th>avg_glucose_level</th>\n",
       "      <th>bmi</th>\n",
       "      <th>smoking_status</th>\n",
       "      <th>stroke</th>\n",
       "    </tr>\n",
       "  </thead>\n",
       "  <tbody>\n",
       "    <tr>\n",
       "      <th>0</th>\n",
       "      <td>1</td>\n",
       "      <td>67.0</td>\n",
       "      <td>0</td>\n",
       "      <td>1</td>\n",
       "      <td>228.69</td>\n",
       "      <td>36.6</td>\n",
       "      <td>1</td>\n",
       "      <td>1</td>\n",
       "    </tr>\n",
       "    <tr>\n",
       "      <th>2</th>\n",
       "      <td>1</td>\n",
       "      <td>80.0</td>\n",
       "      <td>0</td>\n",
       "      <td>1</td>\n",
       "      <td>105.92</td>\n",
       "      <td>32.5</td>\n",
       "      <td>0</td>\n",
       "      <td>1</td>\n",
       "    </tr>\n",
       "    <tr>\n",
       "      <th>3</th>\n",
       "      <td>0</td>\n",
       "      <td>49.0</td>\n",
       "      <td>0</td>\n",
       "      <td>0</td>\n",
       "      <td>171.23</td>\n",
       "      <td>34.4</td>\n",
       "      <td>1</td>\n",
       "      <td>1</td>\n",
       "    </tr>\n",
       "    <tr>\n",
       "      <th>4</th>\n",
       "      <td>0</td>\n",
       "      <td>79.0</td>\n",
       "      <td>1</td>\n",
       "      <td>0</td>\n",
       "      <td>174.12</td>\n",
       "      <td>24.0</td>\n",
       "      <td>0</td>\n",
       "      <td>1</td>\n",
       "    </tr>\n",
       "    <tr>\n",
       "      <th>5</th>\n",
       "      <td>1</td>\n",
       "      <td>81.0</td>\n",
       "      <td>0</td>\n",
       "      <td>0</td>\n",
       "      <td>186.21</td>\n",
       "      <td>29.0</td>\n",
       "      <td>1</td>\n",
       "      <td>1</td>\n",
       "    </tr>\n",
       "    <tr>\n",
       "      <th>...</th>\n",
       "      <td>...</td>\n",
       "      <td>...</td>\n",
       "      <td>...</td>\n",
       "      <td>...</td>\n",
       "      <td>...</td>\n",
       "      <td>...</td>\n",
       "      <td>...</td>\n",
       "      <td>...</td>\n",
       "    </tr>\n",
       "    <tr>\n",
       "      <th>4179</th>\n",
       "      <td>0</td>\n",
       "      <td>13.0</td>\n",
       "      <td>0</td>\n",
       "      <td>0</td>\n",
       "      <td>103.08</td>\n",
       "      <td>18.6</td>\n",
       "      <td>0</td>\n",
       "      <td>0</td>\n",
       "    </tr>\n",
       "    <tr>\n",
       "      <th>4181</th>\n",
       "      <td>0</td>\n",
       "      <td>81.0</td>\n",
       "      <td>0</td>\n",
       "      <td>0</td>\n",
       "      <td>125.20</td>\n",
       "      <td>40.0</td>\n",
       "      <td>0</td>\n",
       "      <td>0</td>\n",
       "    </tr>\n",
       "    <tr>\n",
       "      <th>4182</th>\n",
       "      <td>0</td>\n",
       "      <td>35.0</td>\n",
       "      <td>0</td>\n",
       "      <td>0</td>\n",
       "      <td>82.99</td>\n",
       "      <td>30.6</td>\n",
       "      <td>0</td>\n",
       "      <td>0</td>\n",
       "    </tr>\n",
       "    <tr>\n",
       "      <th>4183</th>\n",
       "      <td>1</td>\n",
       "      <td>51.0</td>\n",
       "      <td>0</td>\n",
       "      <td>0</td>\n",
       "      <td>166.29</td>\n",
       "      <td>25.6</td>\n",
       "      <td>1</td>\n",
       "      <td>0</td>\n",
       "    </tr>\n",
       "    <tr>\n",
       "      <th>4184</th>\n",
       "      <td>0</td>\n",
       "      <td>44.0</td>\n",
       "      <td>0</td>\n",
       "      <td>0</td>\n",
       "      <td>85.28</td>\n",
       "      <td>26.2</td>\n",
       "      <td>0</td>\n",
       "      <td>0</td>\n",
       "    </tr>\n",
       "  </tbody>\n",
       "</table>\n",
       "<p>4008 rows × 8 columns</p>\n",
       "</div>"
      ],
      "text/plain": [
       "      gender   age  hypertension  heart_disease  avg_glucose_level   bmi  \\\n",
       "0          1  67.0             0              1             228.69  36.6   \n",
       "2          1  80.0             0              1             105.92  32.5   \n",
       "3          0  49.0             0              0             171.23  34.4   \n",
       "4          0  79.0             1              0             174.12  24.0   \n",
       "5          1  81.0             0              0             186.21  29.0   \n",
       "...      ...   ...           ...            ...                ...   ...   \n",
       "4179       0  13.0             0              0             103.08  18.6   \n",
       "4181       0  81.0             0              0             125.20  40.0   \n",
       "4182       0  35.0             0              0              82.99  30.6   \n",
       "4183       1  51.0             0              0             166.29  25.6   \n",
       "4184       0  44.0             0              0              85.28  26.2   \n",
       "\n",
       "      smoking_status  stroke  \n",
       "0                  1       1  \n",
       "2                  0       1  \n",
       "3                  1       1  \n",
       "4                  0       1  \n",
       "5                  1       1  \n",
       "...              ...     ...  \n",
       "4179               0       0  \n",
       "4181               0       0  \n",
       "4182               0       0  \n",
       "4183               1       0  \n",
       "4184               0       0  \n",
       "\n",
       "[4008 rows x 8 columns]"
      ]
     },
     "execution_count": 384,
     "metadata": {},
     "output_type": "execute_result"
    }
   ],
   "source": [
    "df_train"
   ]
  },
  {
   "cell_type": "markdown",
   "id": "5ae67dba",
   "metadata": {},
   "source": [
    "# Splitting the data set into Training Input and Output"
   ]
  },
  {
   "cell_type": "code",
   "execution_count": 494,
   "id": "85de6d5f",
   "metadata": {},
   "outputs": [],
   "source": [
    "df_train2=df_train[['gender', 'age', 'hypertension', 'heart_disease', 'avg_glucose_level',\n",
    "       'bmi', 'smoking_status']]"
   ]
  },
  {
   "cell_type": "code",
   "execution_count": 495,
   "id": "40a0849e",
   "metadata": {},
   "outputs": [],
   "source": [
    "df_train_out2=df_train['stroke']"
   ]
  },
  {
   "cell_type": "code",
   "execution_count": 496,
   "id": "32fa1e4b",
   "metadata": {},
   "outputs": [
    {
     "data": {
      "text/html": [
       "<div>\n",
       "<style scoped>\n",
       "    .dataframe tbody tr th:only-of-type {\n",
       "        vertical-align: middle;\n",
       "    }\n",
       "\n",
       "    .dataframe tbody tr th {\n",
       "        vertical-align: top;\n",
       "    }\n",
       "\n",
       "    .dataframe thead th {\n",
       "        text-align: right;\n",
       "    }\n",
       "</style>\n",
       "<table border=\"1\" class=\"dataframe\">\n",
       "  <thead>\n",
       "    <tr style=\"text-align: right;\">\n",
       "      <th></th>\n",
       "      <th>gender</th>\n",
       "      <th>age</th>\n",
       "      <th>hypertension</th>\n",
       "      <th>heart_disease</th>\n",
       "      <th>avg_glucose_level</th>\n",
       "      <th>bmi</th>\n",
       "      <th>smoking_status</th>\n",
       "    </tr>\n",
       "  </thead>\n",
       "  <tbody>\n",
       "    <tr>\n",
       "      <th>0</th>\n",
       "      <td>1</td>\n",
       "      <td>67.0</td>\n",
       "      <td>0</td>\n",
       "      <td>1</td>\n",
       "      <td>228.69</td>\n",
       "      <td>36.6</td>\n",
       "      <td>1</td>\n",
       "    </tr>\n",
       "    <tr>\n",
       "      <th>2</th>\n",
       "      <td>1</td>\n",
       "      <td>80.0</td>\n",
       "      <td>0</td>\n",
       "      <td>1</td>\n",
       "      <td>105.92</td>\n",
       "      <td>32.5</td>\n",
       "      <td>0</td>\n",
       "    </tr>\n",
       "    <tr>\n",
       "      <th>3</th>\n",
       "      <td>0</td>\n",
       "      <td>49.0</td>\n",
       "      <td>0</td>\n",
       "      <td>0</td>\n",
       "      <td>171.23</td>\n",
       "      <td>34.4</td>\n",
       "      <td>1</td>\n",
       "    </tr>\n",
       "    <tr>\n",
       "      <th>4</th>\n",
       "      <td>0</td>\n",
       "      <td>79.0</td>\n",
       "      <td>1</td>\n",
       "      <td>0</td>\n",
       "      <td>174.12</td>\n",
       "      <td>24.0</td>\n",
       "      <td>0</td>\n",
       "    </tr>\n",
       "    <tr>\n",
       "      <th>5</th>\n",
       "      <td>1</td>\n",
       "      <td>81.0</td>\n",
       "      <td>0</td>\n",
       "      <td>0</td>\n",
       "      <td>186.21</td>\n",
       "      <td>29.0</td>\n",
       "      <td>1</td>\n",
       "    </tr>\n",
       "    <tr>\n",
       "      <th>...</th>\n",
       "      <td>...</td>\n",
       "      <td>...</td>\n",
       "      <td>...</td>\n",
       "      <td>...</td>\n",
       "      <td>...</td>\n",
       "      <td>...</td>\n",
       "      <td>...</td>\n",
       "    </tr>\n",
       "    <tr>\n",
       "      <th>4179</th>\n",
       "      <td>0</td>\n",
       "      <td>13.0</td>\n",
       "      <td>0</td>\n",
       "      <td>0</td>\n",
       "      <td>103.08</td>\n",
       "      <td>18.6</td>\n",
       "      <td>0</td>\n",
       "    </tr>\n",
       "    <tr>\n",
       "      <th>4181</th>\n",
       "      <td>0</td>\n",
       "      <td>81.0</td>\n",
       "      <td>0</td>\n",
       "      <td>0</td>\n",
       "      <td>125.20</td>\n",
       "      <td>40.0</td>\n",
       "      <td>0</td>\n",
       "    </tr>\n",
       "    <tr>\n",
       "      <th>4182</th>\n",
       "      <td>0</td>\n",
       "      <td>35.0</td>\n",
       "      <td>0</td>\n",
       "      <td>0</td>\n",
       "      <td>82.99</td>\n",
       "      <td>30.6</td>\n",
       "      <td>0</td>\n",
       "    </tr>\n",
       "    <tr>\n",
       "      <th>4183</th>\n",
       "      <td>1</td>\n",
       "      <td>51.0</td>\n",
       "      <td>0</td>\n",
       "      <td>0</td>\n",
       "      <td>166.29</td>\n",
       "      <td>25.6</td>\n",
       "      <td>1</td>\n",
       "    </tr>\n",
       "    <tr>\n",
       "      <th>4184</th>\n",
       "      <td>0</td>\n",
       "      <td>44.0</td>\n",
       "      <td>0</td>\n",
       "      <td>0</td>\n",
       "      <td>85.28</td>\n",
       "      <td>26.2</td>\n",
       "      <td>0</td>\n",
       "    </tr>\n",
       "  </tbody>\n",
       "</table>\n",
       "<p>4008 rows × 7 columns</p>\n",
       "</div>"
      ],
      "text/plain": [
       "      gender   age  hypertension  heart_disease  avg_glucose_level   bmi  \\\n",
       "0          1  67.0             0              1             228.69  36.6   \n",
       "2          1  80.0             0              1             105.92  32.5   \n",
       "3          0  49.0             0              0             171.23  34.4   \n",
       "4          0  79.0             1              0             174.12  24.0   \n",
       "5          1  81.0             0              0             186.21  29.0   \n",
       "...      ...   ...           ...            ...                ...   ...   \n",
       "4179       0  13.0             0              0             103.08  18.6   \n",
       "4181       0  81.0             0              0             125.20  40.0   \n",
       "4182       0  35.0             0              0              82.99  30.6   \n",
       "4183       1  51.0             0              0             166.29  25.6   \n",
       "4184       0  44.0             0              0              85.28  26.2   \n",
       "\n",
       "      smoking_status  \n",
       "0                  1  \n",
       "2                  0  \n",
       "3                  1  \n",
       "4                  0  \n",
       "5                  1  \n",
       "...              ...  \n",
       "4179               0  \n",
       "4181               0  \n",
       "4182               0  \n",
       "4183               1  \n",
       "4184               0  \n",
       "\n",
       "[4008 rows x 7 columns]"
      ]
     },
     "execution_count": 496,
     "metadata": {},
     "output_type": "execute_result"
    }
   ],
   "source": [
    "df_train2"
   ]
  },
  {
   "cell_type": "code",
   "execution_count": 497,
   "id": "344609fd",
   "metadata": {},
   "outputs": [
    {
     "data": {
      "text/plain": [
       "0       1\n",
       "2       1\n",
       "3       1\n",
       "4       1\n",
       "5       1\n",
       "       ..\n",
       "4179    0\n",
       "4181    0\n",
       "4182    0\n",
       "4183    0\n",
       "4184    0\n",
       "Name: stroke, Length: 4008, dtype: int64"
      ]
     },
     "execution_count": 497,
     "metadata": {},
     "output_type": "execute_result"
    }
   ],
   "source": [
    "df_train_out2"
   ]
  },
  {
   "cell_type": "markdown",
   "id": "8489baa3",
   "metadata": {},
   "source": [
    "# Normalising the data columns\n",
    "### Here a number of columns like of glucose level,bmi and age are normalised"
   ]
  },
  {
   "cell_type": "code",
   "execution_count": 83,
   "id": "0c68c5f0",
   "metadata": {},
   "outputs": [],
   "source": [
    "def min_max(x):\n",
    "    l=[]\n",
    "    a=min(x)\n",
    "    b=max(x)\n",
    "    for i in x:\n",
    "        xnew=(i-a)/(b-a)\n",
    "        l.append(xnew)\n",
    "    return l\n",
    "        "
   ]
  },
  {
   "cell_type": "code",
   "execution_count": 503,
   "id": "7fbfe81b",
   "metadata": {},
   "outputs": [],
   "source": [
    "df_train2['Age']=min_max(df_train2['age'])\n",
    "df_train2['Avg_Glucose_Level']=min_max(df_train2['avg_glucose_level'])\n",
    "df_train2['Bmi']=min_max(df_train2['bmi'])"
   ]
  },
  {
   "cell_type": "code",
   "execution_count": 506,
   "id": "7948936f",
   "metadata": {},
   "outputs": [],
   "source": [
    "df_train2.drop(['age','avg_glucose_level','bmi'],axis=1,inplace=True)"
   ]
  },
  {
   "cell_type": "code",
   "execution_count": 508,
   "id": "7155eefe",
   "metadata": {},
   "outputs": [],
   "source": [
    "df_train2['new']=np.arange(0,4008,1)\n",
    "df_train2=df_train2.set_index('new')"
   ]
  },
  {
   "cell_type": "code",
   "execution_count": 509,
   "id": "a1a266ec",
   "metadata": {},
   "outputs": [
    {
     "data": {
      "text/html": [
       "<div>\n",
       "<style scoped>\n",
       "    .dataframe tbody tr th:only-of-type {\n",
       "        vertical-align: middle;\n",
       "    }\n",
       "\n",
       "    .dataframe tbody tr th {\n",
       "        vertical-align: top;\n",
       "    }\n",
       "\n",
       "    .dataframe thead th {\n",
       "        text-align: right;\n",
       "    }\n",
       "</style>\n",
       "<table border=\"1\" class=\"dataframe\">\n",
       "  <thead>\n",
       "    <tr style=\"text-align: right;\">\n",
       "      <th></th>\n",
       "      <th>gender</th>\n",
       "      <th>hypertension</th>\n",
       "      <th>heart_disease</th>\n",
       "      <th>smoking_status</th>\n",
       "      <th>Age</th>\n",
       "      <th>Avg_Glucose_Level</th>\n",
       "      <th>Bmi</th>\n",
       "    </tr>\n",
       "    <tr>\n",
       "      <th>new</th>\n",
       "      <th></th>\n",
       "      <th></th>\n",
       "      <th></th>\n",
       "      <th></th>\n",
       "      <th></th>\n",
       "      <th></th>\n",
       "      <th></th>\n",
       "    </tr>\n",
       "  </thead>\n",
       "  <tbody>\n",
       "    <tr>\n",
       "      <th>0</th>\n",
       "      <td>1</td>\n",
       "      <td>0</td>\n",
       "      <td>1</td>\n",
       "      <td>1</td>\n",
       "      <td>0.816895</td>\n",
       "      <td>0.801265</td>\n",
       "      <td>0.301260</td>\n",
       "    </tr>\n",
       "    <tr>\n",
       "      <th>1</th>\n",
       "      <td>1</td>\n",
       "      <td>0</td>\n",
       "      <td>1</td>\n",
       "      <td>0</td>\n",
       "      <td>0.975586</td>\n",
       "      <td>0.234512</td>\n",
       "      <td>0.254296</td>\n",
       "    </tr>\n",
       "    <tr>\n",
       "      <th>2</th>\n",
       "      <td>0</td>\n",
       "      <td>0</td>\n",
       "      <td>0</td>\n",
       "      <td>1</td>\n",
       "      <td>0.597168</td>\n",
       "      <td>0.536008</td>\n",
       "      <td>0.276060</td>\n",
       "    </tr>\n",
       "    <tr>\n",
       "      <th>3</th>\n",
       "      <td>0</td>\n",
       "      <td>1</td>\n",
       "      <td>0</td>\n",
       "      <td>0</td>\n",
       "      <td>0.963379</td>\n",
       "      <td>0.549349</td>\n",
       "      <td>0.156930</td>\n",
       "    </tr>\n",
       "    <tr>\n",
       "      <th>4</th>\n",
       "      <td>1</td>\n",
       "      <td>0</td>\n",
       "      <td>0</td>\n",
       "      <td>1</td>\n",
       "      <td>0.987793</td>\n",
       "      <td>0.605161</td>\n",
       "      <td>0.214204</td>\n",
       "    </tr>\n",
       "    <tr>\n",
       "      <th>...</th>\n",
       "      <td>...</td>\n",
       "      <td>...</td>\n",
       "      <td>...</td>\n",
       "      <td>...</td>\n",
       "      <td>...</td>\n",
       "      <td>...</td>\n",
       "      <td>...</td>\n",
       "    </tr>\n",
       "    <tr>\n",
       "      <th>4003</th>\n",
       "      <td>0</td>\n",
       "      <td>0</td>\n",
       "      <td>0</td>\n",
       "      <td>0</td>\n",
       "      <td>0.157715</td>\n",
       "      <td>0.221402</td>\n",
       "      <td>0.095074</td>\n",
       "    </tr>\n",
       "    <tr>\n",
       "      <th>4004</th>\n",
       "      <td>0</td>\n",
       "      <td>0</td>\n",
       "      <td>0</td>\n",
       "      <td>0</td>\n",
       "      <td>0.987793</td>\n",
       "      <td>0.323516</td>\n",
       "      <td>0.340206</td>\n",
       "    </tr>\n",
       "    <tr>\n",
       "      <th>4005</th>\n",
       "      <td>0</td>\n",
       "      <td>0</td>\n",
       "      <td>0</td>\n",
       "      <td>0</td>\n",
       "      <td>0.426270</td>\n",
       "      <td>0.128658</td>\n",
       "      <td>0.232532</td>\n",
       "    </tr>\n",
       "    <tr>\n",
       "      <th>4006</th>\n",
       "      <td>1</td>\n",
       "      <td>0</td>\n",
       "      <td>0</td>\n",
       "      <td>1</td>\n",
       "      <td>0.621582</td>\n",
       "      <td>0.513203</td>\n",
       "      <td>0.175258</td>\n",
       "    </tr>\n",
       "    <tr>\n",
       "      <th>4007</th>\n",
       "      <td>0</td>\n",
       "      <td>0</td>\n",
       "      <td>0</td>\n",
       "      <td>0</td>\n",
       "      <td>0.536133</td>\n",
       "      <td>0.139230</td>\n",
       "      <td>0.182131</td>\n",
       "    </tr>\n",
       "  </tbody>\n",
       "</table>\n",
       "<p>4008 rows × 7 columns</p>\n",
       "</div>"
      ],
      "text/plain": [
       "      gender  hypertension  heart_disease  smoking_status       Age  \\\n",
       "new                                                                   \n",
       "0          1             0              1               1  0.816895   \n",
       "1          1             0              1               0  0.975586   \n",
       "2          0             0              0               1  0.597168   \n",
       "3          0             1              0               0  0.963379   \n",
       "4          1             0              0               1  0.987793   \n",
       "...      ...           ...            ...             ...       ...   \n",
       "4003       0             0              0               0  0.157715   \n",
       "4004       0             0              0               0  0.987793   \n",
       "4005       0             0              0               0  0.426270   \n",
       "4006       1             0              0               1  0.621582   \n",
       "4007       0             0              0               0  0.536133   \n",
       "\n",
       "      Avg_Glucose_Level       Bmi  \n",
       "new                                \n",
       "0              0.801265  0.301260  \n",
       "1              0.234512  0.254296  \n",
       "2              0.536008  0.276060  \n",
       "3              0.549349  0.156930  \n",
       "4              0.605161  0.214204  \n",
       "...                 ...       ...  \n",
       "4003           0.221402  0.095074  \n",
       "4004           0.323516  0.340206  \n",
       "4005           0.128658  0.232532  \n",
       "4006           0.513203  0.175258  \n",
       "4007           0.139230  0.182131  \n",
       "\n",
       "[4008 rows x 7 columns]"
      ]
     },
     "execution_count": 509,
     "metadata": {},
     "output_type": "execute_result"
    }
   ],
   "source": [
    "df_train2"
   ]
  },
  {
   "cell_type": "markdown",
   "id": "3a38ee08",
   "metadata": {},
   "source": [
    "# Now assigning weights to the Neural Network in Random Order"
   ]
  },
  {
   "cell_type": "code",
   "execution_count": 477,
   "id": "ccdf5a60",
   "metadata": {},
   "outputs": [],
   "source": [
    "def weight_matrix(n_neurons):\n",
    "    n_inp=n_neurons[0]\n",
    "    n_hidden=n_neurons[1]\n",
    "    n_out=n_neurons[2]\n",
    "    V = np.random.randn(n_hidden,n_inp)\n",
    "    b1 = np.random.rand(n_hidden)\n",
    "    W = np.random.randn(n_out,n_hidden)\n",
    "    b2 = np.zeros(n_out)\n",
    "    return V,b1,W,b2"
   ]
  },
  {
   "cell_type": "markdown",
   "id": "46809a25",
   "metadata": {},
   "source": [
    "# Fordward Propagation"
   ]
  },
  {
   "cell_type": "code",
   "execution_count": 664,
   "id": "ec16938b",
   "metadata": {},
   "outputs": [],
   "source": [
    "# Fordward Propagation function:\n",
    "\n",
    "def fordward_prop(X,V,Bi_1,W,Bi_2):\n",
    "    # for first layer \n",
    "    M=1/(1+np.exp(-((X.dot(V.T)))))\n",
    "    #for second layer\n",
    "    N=1/(1+np.exp(-((M.dot(W.T))+Bi_2)))\n",
    "\n",
    "\n",
    "    return N,M"
   ]
  },
  {
   "cell_type": "code",
   "execution_count": 176,
   "id": "6ae5d04b",
   "metadata": {
    "scrolled": true
   },
   "outputs": [
    {
     "name": "stdout",
     "output_type": "stream",
     "text": [
      "             0         1         2\n",
      "0     0.919531  0.967806  0.891075\n",
      "2     0.919312  0.936880  0.779118\n",
      "3     0.770048  0.891501  0.774338\n",
      "4     0.901513  0.939107  0.723841\n",
      "5     0.876060  0.961681  0.817320\n",
      "...        ...       ...       ...\n",
      "4179  0.658223  0.763843  0.587083\n",
      "4181  0.817384  0.878247  0.650141\n",
      "4182  0.714569  0.795722  0.598963\n",
      "4183  0.830201  0.946898  0.799002\n",
      "4184  0.734176  0.801247  0.601372\n",
      "\n",
      "[4008 rows x 3 columns]\n"
     ]
    }
   ],
   "source": [
    "# output from first neural network layer \n",
    "print(yy)"
   ]
  },
  {
   "cell_type": "code",
   "execution_count": 179,
   "id": "c849a1e6",
   "metadata": {},
   "outputs": [],
   "source": [
    "new_hidden_out1=yy[0]"
   ]
  },
  {
   "cell_type": "code",
   "execution_count": null,
   "id": "f8113362",
   "metadata": {},
   "outputs": [],
   "source": [
    "square_error=[]\n",
    "for item,new in err:\n",
    "    error=0.5*(item-new)**2\n",
    "    square_error.append(error)\n",
    "    \n",
    "print(square_error)"
   ]
  },
  {
   "cell_type": "code",
   "execution_count": 138,
   "id": "7021347c",
   "metadata": {},
   "outputs": [],
   "source": [
    "zz=df_train['stroke']"
   ]
  },
  {
   "cell_type": "code",
   "execution_count": 153,
   "id": "1b3dbe22",
   "metadata": {},
   "outputs": [],
   "source": [
    "zz=np.array(xx)\n",
    "tt=np.array(df_train['stroke'])"
   ]
  },
  {
   "cell_type": "markdown",
   "id": "3b578fed",
   "metadata": {},
   "source": [
    "# MSE Error Calculation before back propagation algorithm"
   ]
  },
  {
   "cell_type": "code",
   "execution_count": 385,
   "id": "f0e51e44",
   "metadata": {},
   "outputs": [
    {
     "name": "stdout",
     "output_type": "stream",
     "text": [
      "[0.02473227 0.02672389 0.02823102 ... 0.27661948 0.29523279 0.27736055]\n",
      "The average Mean Square Error for all pattern is given by : 0.27111193743519946\n"
     ]
    }
   ],
   "source": [
    "square_error=[]\n",
    "for i in range(4008):\n",
    "    error=0.5*((zz[i]-tt[i])**2)\n",
    "    square_error.append(error)\n",
    "\n",
    "square_error=np.concatenate(square_error,axis=0)\n",
    "print(square_error.T)\n",
    "print('The average Mean Square Error for all pattern is given by :',sum(square_error)/len(square_error))"
   ]
  },
  {
   "cell_type": "markdown",
   "id": "3c9a34c7",
   "metadata": {},
   "source": [
    "# Back Propogation by differentiating the parameters"
   ]
  },
  {
   "cell_type": "code",
   "execution_count": 556,
   "id": "e544f7f2",
   "metadata": {},
   "outputs": [],
   "source": [
    "def diff_W1(W,Z,t,learning_rate):\n",
    "    for j in range(0,len(W[0])):\n",
    "        new1=0\n",
    "        for i in range(0,len(Z)):\n",
    "            new1+=(Z[0][i]-t[i])*Z[0][i]\n",
    "        new1=(new1)/(4008)\n",
    "        W[0][j]=W[0][j]-(learning_rate)*new1\n",
    "        \n",
    "    return W"
   ]
  },
  {
   "cell_type": "code",
   "execution_count": 467,
   "id": "916b5c87",
   "metadata": {},
   "outputs": [
    {
     "data": {
      "text/html": [
       "<div>\n",
       "<style scoped>\n",
       "    .dataframe tbody tr th:only-of-type {\n",
       "        vertical-align: middle;\n",
       "    }\n",
       "\n",
       "    .dataframe tbody tr th {\n",
       "        vertical-align: top;\n",
       "    }\n",
       "\n",
       "    .dataframe thead th {\n",
       "        text-align: right;\n",
       "    }\n",
       "</style>\n",
       "<table border=\"1\" class=\"dataframe\">\n",
       "  <thead>\n",
       "    <tr style=\"text-align: right;\">\n",
       "      <th></th>\n",
       "      <th>0</th>\n",
       "      <th>1</th>\n",
       "      <th>2</th>\n",
       "    </tr>\n",
       "    <tr>\n",
       "      <th>new</th>\n",
       "      <th></th>\n",
       "      <th></th>\n",
       "      <th></th>\n",
       "    </tr>\n",
       "  </thead>\n",
       "  <tbody>\n",
       "    <tr>\n",
       "      <th>0</th>\n",
       "      <td>1.979923</td>\n",
       "      <td>2.618084</td>\n",
       "      <td>1.902095</td>\n",
       "    </tr>\n",
       "    <tr>\n",
       "      <th>1</th>\n",
       "      <td>1.976959</td>\n",
       "      <td>1.912342</td>\n",
       "      <td>1.060863</td>\n",
       "    </tr>\n",
       "    <tr>\n",
       "      <th>2</th>\n",
       "      <td>0.752511</td>\n",
       "      <td>1.320989</td>\n",
       "      <td>1.033299</td>\n",
       "    </tr>\n",
       "    <tr>\n",
       "      <th>3</th>\n",
       "      <td>1.758081</td>\n",
       "      <td>1.950629</td>\n",
       "      <td>0.763922</td>\n",
       "    </tr>\n",
       "    <tr>\n",
       "      <th>4</th>\n",
       "      <td>1.499564</td>\n",
       "      <td>2.437557</td>\n",
       "      <td>1.298622</td>\n",
       "    </tr>\n",
       "    <tr>\n",
       "      <th>...</th>\n",
       "      <td>...</td>\n",
       "      <td>...</td>\n",
       "      <td>...</td>\n",
       "    </tr>\n",
       "    <tr>\n",
       "      <th>4003</th>\n",
       "      <td>0.199316</td>\n",
       "      <td>0.388688</td>\n",
       "      <td>0.152247</td>\n",
       "    </tr>\n",
       "    <tr>\n",
       "      <th>4004</th>\n",
       "      <td>1.042654</td>\n",
       "      <td>1.190761</td>\n",
       "      <td>0.419985</td>\n",
       "    </tr>\n",
       "    <tr>\n",
       "      <th>4005</th>\n",
       "      <td>0.461607</td>\n",
       "      <td>0.574593</td>\n",
       "      <td>0.201473</td>\n",
       "    </tr>\n",
       "    <tr>\n",
       "      <th>4006</th>\n",
       "      <td>1.130979</td>\n",
       "      <td>2.095810</td>\n",
       "      <td>1.180394</td>\n",
       "    </tr>\n",
       "    <tr>\n",
       "      <th>4007</th>\n",
       "      <td>0.559843</td>\n",
       "      <td>0.608931</td>\n",
       "      <td>0.211511</td>\n",
       "    </tr>\n",
       "  </tbody>\n",
       "</table>\n",
       "<p>4008 rows × 3 columns</p>\n",
       "</div>"
      ],
      "text/plain": [
       "             0         1         2\n",
       "new                               \n",
       "0     1.979923  2.618084  1.902095\n",
       "1     1.976959  1.912342  1.060863\n",
       "2     0.752511  1.320989  1.033299\n",
       "3     1.758081  1.950629  0.763922\n",
       "4     1.499564  2.437557  1.298622\n",
       "...        ...       ...       ...\n",
       "4003  0.199316  0.388688  0.152247\n",
       "4004  1.042654  1.190761  0.419985\n",
       "4005  0.461607  0.574593  0.201473\n",
       "4006  1.130979  2.095810  1.180394\n",
       "4007  0.559843  0.608931  0.211511\n",
       "\n",
       "[4008 rows x 3 columns]"
      ]
     },
     "execution_count": 467,
     "metadata": {},
     "output_type": "execute_result"
    }
   ],
   "source": [
    "# output from the hidden neuron\n",
    "new_hidden_out"
   ]
  },
  {
   "cell_type": "code",
   "execution_count": 586,
   "id": "ae26e59a",
   "metadata": {},
   "outputs": [],
   "source": [
    "def diff_V(V,Z,t,new_hidden_out,W,n):\n",
    "    for i in range(0,len(V[0])):\n",
    "        \n",
    "        new1=0\n",
    "        for j in range(0,len(W[0])):\n",
    "            for k in range(0,len(Z)):\n",
    "                new1+=(Z[0][k]-t[k])*W[0][j]*(new_hidden_out[j][k])*(1-new_hidden_out[j][k])\n",
    "        new=(new1)/len(Z)\n",
    "        V[0][i]=V[0][i]-(n)*new\n",
    "    return V"
   ]
  },
  {
   "cell_type": "code",
   "execution_count": 389,
   "id": "1ffbeba4",
   "metadata": {},
   "outputs": [
    {
     "data": {
      "text/html": [
       "<div>\n",
       "<style scoped>\n",
       "    .dataframe tbody tr th:only-of-type {\n",
       "        vertical-align: middle;\n",
       "    }\n",
       "\n",
       "    .dataframe tbody tr th {\n",
       "        vertical-align: top;\n",
       "    }\n",
       "\n",
       "    .dataframe thead th {\n",
       "        text-align: right;\n",
       "    }\n",
       "</style>\n",
       "<table border=\"1\" class=\"dataframe\">\n",
       "  <thead>\n",
       "    <tr style=\"text-align: right;\">\n",
       "      <th></th>\n",
       "      <th>0</th>\n",
       "      <th>1</th>\n",
       "      <th>2</th>\n",
       "    </tr>\n",
       "    <tr>\n",
       "      <th>new</th>\n",
       "      <th></th>\n",
       "      <th></th>\n",
       "      <th></th>\n",
       "    </tr>\n",
       "  </thead>\n",
       "  <tbody>\n",
       "    <tr>\n",
       "      <th>0</th>\n",
       "      <td>1.979923</td>\n",
       "      <td>2.618084</td>\n",
       "      <td>1.902095</td>\n",
       "    </tr>\n",
       "    <tr>\n",
       "      <th>1</th>\n",
       "      <td>1.976959</td>\n",
       "      <td>1.912342</td>\n",
       "      <td>1.060863</td>\n",
       "    </tr>\n",
       "    <tr>\n",
       "      <th>2</th>\n",
       "      <td>0.752511</td>\n",
       "      <td>1.320989</td>\n",
       "      <td>1.033299</td>\n",
       "    </tr>\n",
       "    <tr>\n",
       "      <th>3</th>\n",
       "      <td>1.758081</td>\n",
       "      <td>1.950629</td>\n",
       "      <td>0.763922</td>\n",
       "    </tr>\n",
       "    <tr>\n",
       "      <th>4</th>\n",
       "      <td>1.499564</td>\n",
       "      <td>2.437557</td>\n",
       "      <td>1.298622</td>\n",
       "    </tr>\n",
       "    <tr>\n",
       "      <th>...</th>\n",
       "      <td>...</td>\n",
       "      <td>...</td>\n",
       "      <td>...</td>\n",
       "    </tr>\n",
       "    <tr>\n",
       "      <th>4003</th>\n",
       "      <td>0.199316</td>\n",
       "      <td>0.388688</td>\n",
       "      <td>0.152247</td>\n",
       "    </tr>\n",
       "    <tr>\n",
       "      <th>4004</th>\n",
       "      <td>1.042654</td>\n",
       "      <td>1.190761</td>\n",
       "      <td>0.419985</td>\n",
       "    </tr>\n",
       "    <tr>\n",
       "      <th>4005</th>\n",
       "      <td>0.461607</td>\n",
       "      <td>0.574593</td>\n",
       "      <td>0.201473</td>\n",
       "    </tr>\n",
       "    <tr>\n",
       "      <th>4006</th>\n",
       "      <td>1.130979</td>\n",
       "      <td>2.095810</td>\n",
       "      <td>1.180394</td>\n",
       "    </tr>\n",
       "    <tr>\n",
       "      <th>4007</th>\n",
       "      <td>0.559843</td>\n",
       "      <td>0.608931</td>\n",
       "      <td>0.211511</td>\n",
       "    </tr>\n",
       "  </tbody>\n",
       "</table>\n",
       "<p>4008 rows × 3 columns</p>\n",
       "</div>"
      ],
      "text/plain": [
       "             0         1         2\n",
       "new                               \n",
       "0     1.979923  2.618084  1.902095\n",
       "1     1.976959  1.912342  1.060863\n",
       "2     0.752511  1.320989  1.033299\n",
       "3     1.758081  1.950629  0.763922\n",
       "4     1.499564  2.437557  1.298622\n",
       "...        ...       ...       ...\n",
       "4003  0.199316  0.388688  0.152247\n",
       "4004  1.042654  1.190761  0.419985\n",
       "4005  0.461607  0.574593  0.201473\n",
       "4006  1.130979  2.095810  1.180394\n",
       "4007  0.559843  0.608931  0.211511\n",
       "\n",
       "[4008 rows x 3 columns]"
      ]
     },
     "execution_count": 389,
     "metadata": {},
     "output_type": "execute_result"
    }
   ],
   "source": [
    "new_hidden_out"
   ]
  },
  {
   "cell_type": "code",
   "execution_count": 339,
   "id": "ec8ec28e",
   "metadata": {},
   "outputs": [],
   "source": [
    "new_hidden_out['new']=np.arange(0,4008,1)"
   ]
  },
  {
   "cell_type": "code",
   "execution_count": 341,
   "id": "1563528d",
   "metadata": {},
   "outputs": [],
   "source": [
    "new_hidden_out=new_hidden_out.set_index('new')"
   ]
  },
  {
   "cell_type": "code",
   "execution_count": 203,
   "id": "b1e8bbad",
   "metadata": {},
   "outputs": [],
   "source": [
    "new_hidden_out2=new_hidden_out[1]\n",
    "new_hidden_out3=new_hidden_out[2]"
   ]
  },
  {
   "cell_type": "code",
   "execution_count": 229,
   "id": "edd70f26",
   "metadata": {},
   "outputs": [],
   "source": [
    "new_hidden_out1=np.array(new_hidden_out1)\n",
    "new_hidden_out2=np.array(new_hidden_out2)\n",
    "new_hidden_out3=np.array(new_hidden_out3)\n",
    "\n",
    "\n"
   ]
  },
  {
   "cell_type": "markdown",
   "id": "9821feb2",
   "metadata": {},
   "source": [
    "# Defining the error function"
   ]
  },
  {
   "cell_type": "code",
   "execution_count": 714,
   "id": "501e890b",
   "metadata": {},
   "outputs": [],
   "source": [
    "def define(zz,tt):\n",
    "    error=0\n",
    "    for i in range(len(tt)):\n",
    "        error+=(0.5*((zz[i][0]-tt[i])**2))/len(tt)\n",
    "        \n",
    "    return error"
   ]
  },
  {
   "cell_type": "markdown",
   "id": "66cd8c66",
   "metadata": {},
   "source": [
    "# Running Code"
   ]
  },
  {
   "cell_type": "code",
   "execution_count": 656,
   "id": "f561ca13",
   "metadata": {},
   "outputs": [
    {
     "name": "stdout",
     "output_type": "stream",
     "text": [
      "0 epoch ---> rmse_error : 0.07390278317712641\n",
      "1 epoch ---> rmse_error : 0.0888772825021353\n",
      "2 epoch ---> rmse_error : 0.08823101014505369\n",
      "3 epoch ---> rmse_error : 0.08760542049421081\n",
      "4 epoch ---> rmse_error : 0.08699962061043774\n",
      "5 epoch ---> rmse_error : 0.08641276673627887\n",
      "6 epoch ---> rmse_error : 0.08584406106224753\n",
      "7 epoch ---> rmse_error : 0.08529274873388501\n",
      "8 epoch ---> rmse_error : 0.08475811507999251\n",
      "9 epoch ---> rmse_error : 0.08423948304407418\n",
      "10 epoch ---> rmse_error : 0.0837362108025647\n",
      "11 epoch ---> rmse_error : 0.08324768955483325\n",
      "12 epoch ---> rmse_error : 0.08277334147124041\n",
      "13 epoch ---> rmse_error : 0.08231261778672075\n",
      "14 epoch ---> rmse_error : 0.08186499702843512\n",
      "15 epoch ---> rmse_error : 0.08142998336702745\n",
      "16 epoch ---> rmse_error : 0.08100710508191288\n",
      "17 epoch ---> rmse_error : 0.08059591313183934\n",
      "18 epoch ---> rmse_error : 0.08019597982270894\n",
      "19 epoch ---> rmse_error : 0.07980689756531252\n",
      "20 epoch ---> rmse_error : 0.07942827771624579\n",
      "21 epoch ---> rmse_error : 0.07905974949583353\n",
      "22 epoch ---> rmse_error : 0.07870095897738703\n",
      "23 epoch ---> rmse_error : 0.07835156814259028\n",
      "24 epoch ---> rmse_error : 0.07801125399821636\n",
      "25 epoch ---> rmse_error : 0.07767970774976964\n",
      "26 epoch ---> rmse_error : 0.0773566340279914\n",
      "27 epoch ---> rmse_error : 0.07704175016447963\n",
      "28 epoch ---> rmse_error : 0.07673478551297498\n",
      "29 epoch ---> rmse_error : 0.07643548081312257\n",
      "30 epoch ---> rmse_error : 0.07614358759375836\n",
      "31 epoch ---> rmse_error : 0.07585886761300495\n",
      "32 epoch ---> rmse_error : 0.07558109233264888\n",
      "33 epoch ---> rmse_error : 0.07531004242447419\n",
      "34 epoch ---> rmse_error : 0.07504550730638326\n",
      "35 epoch ---> rmse_error : 0.07478728470630934\n",
      "36 epoch ---> rmse_error : 0.0745351802520614\n",
      "37 epoch ---> rmse_error : 0.07428900708537353\n",
      "38 epoch ---> rmse_error : 0.07404858549856462\n",
      "39 epoch ---> rmse_error : 0.07381374259231964\n",
      "40 epoch ---> rmse_error : 0.0735843119532111\n",
      "41 epoch ---> rmse_error : 0.07336013334967685\n",
      "42 epoch ---> rmse_error : 0.07314105244526012\n",
      "43 epoch ---> rmse_error : 0.0729269205280022\n",
      "44 epoch ---> rmse_error : 0.07271759425494898\n",
      "45 epoch ---> rmse_error : 0.07251293541081472\n",
      "46 epoch ---> rmse_error : 0.07231281067990049\n",
      "47 epoch ---> rmse_error : 0.07211709143043363\n",
      "48 epoch ---> rmse_error : 0.07192565351054946\n",
      "49 epoch ---> rmse_error : 0.07173837705518896\n",
      "50 epoch ---> rmse_error : 0.07155514630323406\n",
      "51 epoch ---> rmse_error : 0.07137584942424943\n",
      "52 epoch ---> rmse_error : 0.07120037835424288\n",
      "53 epoch ---> rmse_error : 0.07102862863989097\n",
      "54 epoch ---> rmse_error : 0.07086049929071854\n",
      "55 epoch ---> rmse_error : 0.07069589263875364\n",
      "56 epoch ---> rmse_error : 0.07053471420520777\n",
      "57 epoch ---> rmse_error : 0.0703768725737645\n",
      "58 epoch ---> rmse_error : 0.0702222792700853\n",
      "59 epoch ---> rmse_error : 0.07007084864716924\n",
      "60 epoch ---> rmse_error : 0.06992249777622207\n",
      "61 epoch ---> rmse_error : 0.06977714634271831\n",
      "62 epoch ---> rmse_error : 0.06963471654735738\n",
      "63 epoch ---> rmse_error : 0.06949513301163358\n",
      "64 epoch ---> rmse_error : 0.06935832268776133\n",
      "65 epoch ---> rmse_error : 0.06922421477270718\n",
      "66 epoch ---> rmse_error : 0.06909274062610694\n",
      "67 epoch ---> rmse_error : 0.06896383369184471\n",
      "68 epoch ---> rmse_error : 0.06883742942310128\n",
      "69 epoch ---> rmse_error : 0.06871346521068036\n",
      "70 epoch ---> rmse_error : 0.06859188031443715\n",
      "71 epoch ---> rmse_error : 0.06847261579764356\n",
      "72 epoch ---> rmse_error : 0.06835561446413768\n",
      "73 epoch ---> rmse_error : 0.06824082079810918\n",
      "74 epoch ---> rmse_error : 0.06812818090638856\n",
      "75 epoch ---> rmse_error : 0.06801764246310686\n",
      "76 epoch ---> rmse_error : 0.0679091546566122\n",
      "77 epoch ---> rmse_error : 0.06780266813852456\n",
      "78 epoch ---> rmse_error : 0.06769813497482592\n",
      "79 epoch ---> rmse_error : 0.06759550859888756\n",
      "80 epoch ---> rmse_error : 0.06749474376633509\n",
      "81 epoch ---> rmse_error : 0.06739579651166858\n",
      "82 epoch ---> rmse_error : 0.06729862410655274\n",
      "83 epoch ---> rmse_error : 0.06720318501969791\n",
      "84 epoch ---> rmse_error : 0.06710943887825789\n",
      "85 epoch ---> rmse_error : 0.0670173464306777\n",
      "86 epoch ---> rmse_error : 0.0669268695109221\n",
      "87 epoch ---> rmse_error : 0.06683797100402471\n",
      "88 epoch ---> rmse_error : 0.06675061481289903\n",
      "89 epoch ---> rmse_error : 0.06666476582635512\n",
      "90 epoch ---> rmse_error : 0.0665803898882703\n",
      "91 epoch ---> rmse_error : 0.06649745376786338\n",
      "92 epoch ---> rmse_error : 0.06641592513102709\n",
      "93 epoch ---> rmse_error : 0.06633577251267145\n",
      "94 epoch ---> rmse_error : 0.06625696529003905\n",
      "95 epoch ---> rmse_error : 0.06617947365695008\n",
      "96 epoch ---> rmse_error : 0.06610326859893736\n",
      "97 epoch ---> rmse_error : 0.06602832186924283\n",
      "98 epoch ---> rmse_error : 0.06595460596562955\n",
      "99 epoch ---> rmse_error : 0.06588209410798668\n"
     ]
    },
    {
     "data": {
      "image/png": "[encoded data removed]",
      "text/plain": [
       "<Figure size 432x288 with 1 Axes>"
      ]
     },
     "metadata": {
      "needs_background": "light"
     },
     "output_type": "display_data"
    },
    {
     "name": "stdout",
     "output_type": "stream",
     "text": [
      "learning rate = 0.01 & no. of hidden neurons = 3 RMSE : 0.06588209410798668\n"
     ]
    }
   ],
   "source": [
    "n_inputs=7\n",
    "n_hidden=3\n",
    "n_output=1\n",
    "epochs=100\n",
    "n_neurons=[n_inputs,n_hidden,n_output]\n",
    "weights=weight_matrix(n_neurons)\n",
    "learning_rate=0.1\n",
    "err=[]\n",
    "for epoch in range(epochs):\n",
    "\n",
    "    x=df_train2\n",
    "    y=df_train_out4\n",
    "    new_parameters={'V':weights[0],'b1':weights[1],'W':weights[2],'b2':weights[3]}\n",
    "    fordward=fordward_prop(x,weights[0],weights[1],weights[2],weights[3])\n",
    "    new=define(fordward[0],output)\n",
    "    W=diff_W1(weights[2],fordward[0],y,learning_rate)\n",
    "    V=diff_V(weights[0],fordward[0],y,fordward[1],weights[2],learning_rate)\n",
    "    weights=[V,Bi_1,W,Bi_2]\n",
    "    rsme=((new)/7)**0.5\n",
    "    err.append(rsme)\n",
    "    print('{} epoch ---> rmse_error : {}'.format(epoch,rsme,n_hidden))            \n",
    "plt.figure()\n",
    "plt.plot(np.arange(100),err)\n",
    "plt.title('Error Function Graph')\n",
    "plt.show()\n",
    "print('learning rate = 0.01 & no. of hidden neurons = '+str(n_hidden) + ' RMSE : '+ str(err[-1]));\n",
    "\n",
    "\n",
    "\n",
    "    "
   ]
  },
  {
   "cell_type": "markdown",
   "id": "2e2e80e9",
   "metadata": {},
   "source": [
    "# Optimising the number of Hidden Neurons\n",
    "### We are taking different numbers of neurons here to get to the results"
   ]
  },
  {
   "cell_type": "code",
   "execution_count": 668,
   "id": "21683466",
   "metadata": {},
   "outputs": [
    {
     "name": "stdout",
     "output_type": "stream",
     "text": [
      "0 epoch ---> rmse_error : 0.137852920943547\n",
      "10 epoch ---> rmse_error : 0.12868720298443195\n",
      "20 epoch ---> rmse_error : 0.1051500797343622\n",
      "30 epoch ---> rmse_error : 0.09153207384126191\n",
      "40 epoch ---> rmse_error : 0.08319694720485556\n",
      "50 epoch ---> rmse_error : 0.07780430783309314\n",
      "60 epoch ---> rmse_error : 0.07413611460868914\n",
      "70 epoch ---> rmse_error : 0.07153041207237883\n",
      "80 epoch ---> rmse_error : 0.06961015361555858\n",
      "90 epoch ---> rmse_error : 0.06815051199835186\n",
      "100 epoch ---> rmse_error : 0.06701163814727151\n",
      "110 epoch ---> rmse_error : 0.06610317361251813\n",
      "120 epoch ---> rmse_error : 0.0653647326343285\n",
      "130 epoch ---> rmse_error : 0.06475473568417946\n",
      "140 epoch ---> rmse_error : 0.06424378389672036\n",
      "150 epoch ---> rmse_error : 0.0638105955286049\n",
      "160 epoch ---> rmse_error : 0.06343943815322585\n",
      "170 epoch ---> rmse_error : 0.0631184616233035\n",
      "180 epoch ---> rmse_error : 0.0628385889821525\n",
      "190 epoch ---> rmse_error : 0.06259276193461054\n"
     ]
    },
    {
     "data": {
      "image/png": "[encoded data removed]",
      "text/plain": [
       "<Figure size 432x288 with 1 Axes>"
      ]
     },
     "metadata": {
      "needs_background": "light"
     },
     "output_type": "display_data"
    },
    {
     "name": "stdout",
     "output_type": "stream",
     "text": [
      "learning rate = 0.01 & no. of hidden neurons = 5 RMSE : 0.06239600375331841\n",
      "0 epoch ---> rmse_error : 0.11893683272613575\n",
      "10 epoch ---> rmse_error : 0.1051211785451859\n",
      "20 epoch ---> rmse_error : 0.08799297895805615\n",
      "30 epoch ---> rmse_error : 0.07956436812965699\n",
      "40 epoch ---> rmse_error : 0.07470146157961013\n",
      "50 epoch ---> rmse_error : 0.071597315308689\n",
      "60 epoch ---> rmse_error : 0.06947321162955447\n",
      "70 epoch ---> rmse_error : 0.06794424811103822\n",
      "80 epoch ---> rmse_error : 0.06680051805107082\n",
      "90 epoch ---> rmse_error : 0.06591873957656345\n",
      "100 epoch ---> rmse_error : 0.06522218602812936\n",
      "110 epoch ---> rmse_error : 0.06466082969100465\n",
      "120 epoch ---> rmse_error : 0.06420078220280143\n",
      "130 epoch ---> rmse_error : 0.06381834565028263\n",
      "140 epoch ---> rmse_error : 0.0634964962551991\n",
      "150 epoch ---> rmse_error : 0.06322271971808473\n",
      "160 epoch ---> rmse_error : 0.06298763143690286\n",
      "170 epoch ---> rmse_error : 0.06278407011089066\n",
      "180 epoch ---> rmse_error : 0.06260648644244195\n",
      "190 epoch ---> rmse_error : 0.062450521202525935\n"
     ]
    },
    {
     "data": {
      "image/png": "[encoded data removed]",
      "text/plain": [
       "<Figure size 432x288 with 1 Axes>"
      ]
     },
     "metadata": {
      "needs_background": "light"
     },
     "output_type": "display_data"
    },
    {
     "name": "stdout",
     "output_type": "stream",
     "text": [
      "learning rate = 0.01 & no. of hidden neurons = 8 RMSE : 0.06232575641668496\n",
      "0 epoch ---> rmse_error : 0.06478995715092321\n",
      "10 epoch ---> rmse_error : 0.06949237086354201\n",
      "20 epoch ---> rmse_error : 0.0673913531790508\n",
      "30 epoch ---> rmse_error : 0.06599897115357752\n",
      "40 epoch ---> rmse_error : 0.06501769627702866\n",
      "50 epoch ---> rmse_error : 0.06429415036862259\n",
      "60 epoch ---> rmse_error : 0.06374179943844137\n",
      "70 epoch ---> rmse_error : 0.06330838576953063\n",
      "80 epoch ---> rmse_error : 0.06296062498400339\n",
      "90 epoch ---> rmse_error : 0.06267638800250433\n",
      "100 epoch ---> rmse_error : 0.062440432880979425\n",
      "110 epoch ---> rmse_error : 0.062241945284907674\n",
      "120 epoch ---> rmse_error : 0.06207305605290107\n",
      "130 epoch ---> rmse_error : 0.06192791306961312\n",
      "140 epoch ---> rmse_error : 0.061802080922771216\n",
      "150 epoch ---> rmse_error : 0.06169214143414909\n",
      "160 epoch ---> rmse_error : 0.06159542117429121\n",
      "170 epoch ---> rmse_error : 0.06150980147218232\n",
      "180 epoch ---> rmse_error : 0.06143358333000805\n",
      "190 epoch ---> rmse_error : 0.06136538967816136\n"
     ]
    },
    {
     "data": {
      "image/png": "[encoded data removed]",
      "text/plain": [
       "<Figure size 432x288 with 1 Axes>"
      ]
     },
     "metadata": {
      "needs_background": "light"
     },
     "output_type": "display_data"
    },
    {
     "name": "stdout",
     "output_type": "stream",
     "text": [
      "learning rate = 0.01 & no. of hidden neurons = 13 RMSE : 0.061309940608682\n",
      "0 epoch ---> rmse_error : 0.20357167561975997\n",
      "10 epoch ---> rmse_error : 0.10702810147272535\n",
      "20 epoch ---> rmse_error : 0.08124769133000495\n",
      "30 epoch ---> rmse_error : 0.07221724261473852\n",
      "40 epoch ---> rmse_error : 0.06785587456170283\n",
      "50 epoch ---> rmse_error : 0.06536923034005024\n",
      "60 epoch ---> rmse_error : 0.06380016906026172\n",
      "70 epoch ---> rmse_error : 0.06273988274962482\n",
      "80 epoch ---> rmse_error : 0.06198708832589613\n",
      "90 epoch ---> rmse_error : 0.06143226505698687\n",
      "100 epoch ---> rmse_error : 0.06101121350946473\n",
      "110 epoch ---> rmse_error : 0.060684063036655814\n",
      "120 epoch ---> rmse_error : 0.06042488521983621\n",
      "130 epoch ---> rmse_error : 0.060216174600930004\n",
      "140 epoch ---> rmse_error : 0.06004574016971495\n",
      "150 epoch ---> rmse_error : 0.0599048678137415\n",
      "160 epoch ---> rmse_error : 0.05978718883201766\n",
      "170 epoch ---> rmse_error : 0.05968795856888016\n",
      "180 epoch ---> rmse_error : 0.059603582576371765\n",
      "190 epoch ---> rmse_error : 0.059531297215856524\n"
     ]
    },
    {
     "data": {
      "image/png": "[encoded data removed]",
      "text/plain": [
       "<Figure size 432x288 with 1 Axes>"
      ]
     },
     "metadata": {
      "needs_background": "light"
     },
     "output_type": "display_data"
    },
    {
     "name": "stdout",
     "output_type": "stream",
     "text": [
      "learning rate = 0.01 & no. of hidden neurons = 15 RMSE : 0.05947478841723176\n"
     ]
    }
   ],
   "source": [
    "hidden=[5,8,13,15]\n",
    "n_epochs=200\n",
    "learning_rate=0.1\n",
    "\n",
    "for n_hidden in hidden:\n",
    "    n_neurons=[n_inputs,n_hidden,n_outputs]\n",
    "    weights=weight_matrix(n_neurons)\n",
    "    err=[]\n",
    "    for epoch in range(n_epochs):\n",
    "        error=0\n",
    "        x=df_train2\n",
    "        y=df_train_out4\n",
    "        new_parameters={'V':weights[0],'b1':weights[1],'W':weights[2],'b2':weights[3]}\n",
    "        fordward=fordward_prop(x,weights[0],weights[1],weights[2],weights[3])\n",
    "        new=define(fordward[0],output)\n",
    "        W=diff_W1(weights[2],fordward[0],y,learning_rate)\n",
    "        V=diff_V(weights[0],fordward[0],y,fordward[1],weights[2],learning_rate)\n",
    "        weights=[V,Bi_1,W,Bi_2]\n",
    "        rsme=((new)/7)**0.5\n",
    "        err.append(rsme)\n",
    "        if (epoch%10==0):\n",
    "            print('{} epoch ---> rmse_error : {}'.format(epoch,rsme,n_hidden))            \n",
    "    plt.figure()\n",
    "    plt.plot(np.arange(200),err)\n",
    "    plt.title('Error Function Graph')\n",
    "    plt.show()\n",
    "    print('learning rate = 0.01 & no. of hidden neurons = '+str(n_hidden) + ' RMSE : '+ str(err[-1]));\n",
    "        \n",
    "                  \n",
    "            \n",
    "       "
   ]
  },
  {
   "cell_type": "code",
   "execution_count": null,
   "id": "aee17be7",
   "metadata": {},
   "outputs": [],
   "source": [
    "#Optimising the Learning Rate:"
   ]
  },
  {
   "cell_type": "code",
   "execution_count": 670,
   "id": "92e8d61b",
   "metadata": {
    "scrolled": true
   },
   "outputs": [
    {
     "data": {
      "image/png": "[encoded data removed]",
      "text/plain": [
       "<Figure size 432x288 with 1 Axes>"
      ]
     },
     "metadata": {
      "needs_background": "light"
     },
     "output_type": "display_data"
    },
    {
     "data": {
      "image/png": "[encoded data removed]",
      "text/plain": [
       "<Figure size 432x288 with 1 Axes>"
      ]
     },
     "metadata": {
      "needs_background": "light"
     },
     "output_type": "display_data"
    },
    {
     "data": {
      "image/png": "[encoded data removed]",
      "text/plain": [
       "<Figure size 432x288 with 1 Axes>"
      ]
     },
     "metadata": {
      "needs_background": "light"
     },
     "output_type": "display_data"
    },
    {
     "data": {
      "image/png": "[encoded data removed]",
      "text/plain": [
       "<Figure size 432x288 with 1 Axes>"
      ]
     },
     "metadata": {
      "needs_background": "light"
     },
     "output_type": "display_data"
    }
   ],
   "source": [
    "learn=[0.05,0.02,0.1,0.002]\n",
    "n_epochs=250\n",
    "n_hidden=13\n",
    "for item in learn:\n",
    "    n_neurons=[n_inputs,n_hidden,n_outputs]\n",
    "    weights=weight_matrix(n_neurons)\n",
    "    err=[]\n",
    "    for epoch in range(n_epochs):\n",
    "        error=0\n",
    "        x=df_train2\n",
    "        y=df_train_out4\n",
    "        new_parameters={'V':weights[0],'b1':weights[1],'W':weights[2],'b2':weights[3]}\n",
    "        fordward=fordward_prop(x,weights[0],weights[1],weights[2],weights[3])\n",
    "        new=define(fordward[0],output)\n",
    "        W=diff_W1(weights[2],fordward[0],y,item)\n",
    "        V=diff_V(weights[0],fordward[0],y,fordward[1],weights[2],item)\n",
    "        weights=[V,Bi_1,W,Bi_2]\n",
    "        rsme=((new)/7)**0.5\n",
    "        err.append(rsme)\n",
    "                   \n",
    "    plt.figure()\n",
    "    plt.plot(np.arange(250),err)\n",
    "    plt.title('learning rate = '+str(item)+' & no. of hidden neurons = 13')\n",
    "    plt.show()\n"
   ]
  },
  {
   "cell_type": "markdown",
   "id": "253557ee",
   "metadata": {},
   "source": [
    "# Final Model for Calssification:"
   ]
  },
  {
   "cell_type": "code",
   "execution_count": 671,
   "id": "3a3662aa",
   "metadata": {},
   "outputs": [
    {
     "name": "stdout",
     "output_type": "stream",
     "text": [
      "0 epoch ---> rmse_error : 0.2561011942867147\n",
      "10 epoch ---> rmse_error : 0.22183382620814263\n",
      "20 epoch ---> rmse_error : 0.1480041618757513\n",
      "30 epoch ---> rmse_error : 0.11129815283309326\n",
      "40 epoch ---> rmse_error : 0.09398428538403068\n",
      "50 epoch ---> rmse_error : 0.08443159147703196\n",
      "60 epoch ---> rmse_error : 0.07853236699270097\n",
      "70 epoch ---> rmse_error : 0.07459581068873557\n",
      "80 epoch ---> rmse_error : 0.07181820040061418\n",
      "90 epoch ---> rmse_error : 0.06977423104946177\n",
      "100 epoch ---> rmse_error : 0.06821999337560007\n",
      "110 epoch ---> rmse_error : 0.06700664767331771\n",
      "120 epoch ---> rmse_error : 0.06603877538911464\n",
      "130 epoch ---> rmse_error : 0.06525269659124991\n",
      "140 epoch ---> rmse_error : 0.06460446817512\n",
      "150 epoch ---> rmse_error : 0.06406289713836374\n",
      "160 epoch ---> rmse_error : 0.06360529775266578\n",
      "170 epoch ---> rmse_error : 0.06321482054561443\n",
      "180 epoch ---> rmse_error : 0.06287871774427628\n",
      "190 epoch ---> rmse_error : 0.0625871859766488\n",
      "200 epoch ---> rmse_error : 0.0623325755727979\n",
      "210 epoch ---> rmse_error : 0.06210883887339373\n",
      "220 epoch ---> rmse_error : 0.06191113802309858\n",
      "230 epoch ---> rmse_error : 0.06173556140850934\n",
      "240 epoch ---> rmse_error : 0.0615789154909604\n",
      "250 epoch ---> rmse_error : 0.06143856984220229\n",
      "260 epoch ---> rmse_error : 0.061312340297989085\n",
      "270 epoch ---> rmse_error : 0.06119839980462637\n",
      "280 epoch ---> rmse_error : 0.0610952096447047\n",
      "290 epoch ---> rmse_error : 0.06100146583962121\n",
      "300 epoch ---> rmse_error : 0.06091605698087809\n",
      "310 epoch ---> rmse_error : 0.06083803075775477\n",
      "320 epoch ---> rmse_error : 0.060766567167193315\n",
      "330 epoch ---> rmse_error : 0.06070095690561457\n",
      "340 epoch ---> rmse_error : 0.060640583814156906\n"
     ]
    },
    {
     "data": {
      "image/png": "[encoded data removed]",
      "text/plain": [
       "<Figure size 432x288 with 1 Axes>"
      ]
     },
     "metadata": {
      "needs_background": "light"
     },
     "output_type": "display_data"
    },
    {
     "name": "stdout",
     "output_type": "stream",
     "text": [
      "learning rate = 0.05 & no. of hidden neurons = 13 RMSE : 0.06059028024302728\n"
     ]
    }
   ],
   "source": [
    "n_inputs=7\n",
    "n_hidden=13\n",
    "n_output=1\n",
    "epochs=350\n",
    "n_neurons=[n_inputs,n_hidden,n_output]\n",
    "weights=weight_matrix(n_neurons)\n",
    "learning_rate=0.05\n",
    "err=[]\n",
    "for epoch in range(epochs):\n",
    "\n",
    "    x=df_train2\n",
    "    y=df_train_out4\n",
    "    new_parameters={'V':weights[0],'b1':weights[1],'W':weights[2],'b2':weights[3]}\n",
    "    fordward=fordward_prop(x,weights[0],weights[1],weights[2],weights[3])\n",
    "    new=define(fordward[0],output)\n",
    "    W=diff_W1(weights[2],fordward[0],y,learning_rate)\n",
    "    V=diff_V(weights[0],fordward[0],y,fordward[1],weights[2],learning_rate)\n",
    "    weights=[V,Bi_1,W,Bi_2]\n",
    "    rsme=((new)/7)**0.5\n",
    "    err.append(rsme)\n",
    "    if (epoch%10==0):\n",
    "        print('{} epoch ---> rmse_error : {}'.format(epoch,rsme,n_hidden))            \n",
    "plt.figure()\n",
    "plt.plot(np.arange(350),err)\n",
    "plt.title('Error Function Graph')\n",
    "plt.show()\n",
    "print('learning rate = 0.05 & no. of hidden neurons = '+str(n_hidden) + ' RMSE : '+ str(err[-1]));"
   ]
  },
  {
   "cell_type": "code",
   "execution_count": 673,
   "id": "2f562a2f",
   "metadata": {
    "scrolled": true
   },
   "outputs": [
    {
     "name": "stdout",
     "output_type": "stream",
     "text": [
      "[array([[ 3.58466860e+00,  1.88025376e+00, -7.15500190e-01,\n",
      "        -6.86883781e-01,  1.11744024e+00,  1.18283897e+00,\n",
      "         1.18445801e+00],\n",
      "       [-2.54955794e-01, -1.25454260e-01,  3.27879524e-01,\n",
      "         8.58930063e-02, -2.21930037e+00, -2.29799631e-01,\n",
      "        -8.51406434e-01],\n",
      "       [ 1.75211419e-01,  2.98525900e+00,  3.67481665e-01,\n",
      "        -3.13529686e-01,  9.21801502e-01,  4.82687887e-01,\n",
      "         4.20094490e-01],\n",
      "       [ 6.06850593e-01,  2.05654356e+00, -1.13088844e+00,\n",
      "         4.73632077e-01, -9.26381130e-01,  5.55512646e-01,\n",
      "        -9.18686511e-01],\n",
      "       [-4.17366814e-01, -2.95089914e-01,  9.75816719e-01,\n",
      "         9.18454444e-01, -1.24571738e+00,  5.49341110e-02,\n",
      "        -7.09579855e-01],\n",
      "       [-1.25850491e+00, -2.17017050e-01, -3.08482788e-01,\n",
      "         2.42671649e+00,  4.32959825e-01, -1.37761750e+00,\n",
      "        -5.64774004e-01],\n",
      "       [ 1.02138330e+00,  2.08844277e+00, -1.58598331e+00,\n",
      "        -1.87992439e+00,  1.87096518e+00,  3.89614177e-01,\n",
      "        -8.68292732e-01],\n",
      "       [ 5.34629086e-01, -2.63574774e+00,  3.37550660e-03,\n",
      "         3.27821173e-01,  9.24270140e-01, -1.01389595e+00,\n",
      "         8.56871614e-02],\n",
      "       [-9.25424626e-01,  2.55383756e-01, -8.95346322e-01,\n",
      "        -4.08100839e-01, -9.95815395e-01,  6.51136242e-01,\n",
      "         8.58451117e-01],\n",
      "       [-2.34620570e-01,  3.82379950e-02, -1.44859141e+00,\n",
      "        -2.99676648e-01, -5.02046170e-02,  2.62079309e+00,\n",
      "        -1.11196703e+00],\n",
      "       [ 1.46417724e+00,  9.96858773e-01,  2.80636404e-01,\n",
      "         1.75862048e+00,  3.72105473e-01,  3.89159196e-01,\n",
      "        -5.31206530e-02],\n",
      "       [ 1.22356888e+00,  1.09646923e+00, -6.25677287e-01,\n",
      "        -1.31924719e+00, -2.02980637e-01, -8.00038564e-01,\n",
      "        -6.35245746e-02],\n",
      "       [ 1.23743813e+00, -4.57301655e-01, -4.28233813e-02,\n",
      "         5.80227348e-02,  8.48430882e-01, -2.24688933e+00,\n",
      "        -6.06700295e-01]]), array([0.45606998, 0.78517596, 0.19967378]), array([[-0.84631886,  0.23179431, -0.08959607, -1.2665567 ,  1.05253303,\n",
      "        -0.78906856,  0.45540672,  0.33899434, -0.64295456, -0.3064717 ,\n",
      "        -0.43353113, -2.20186398, -1.00031219]]), array([0.51423444])]\n"
     ]
    }
   ],
   "source": [
    "# the final parameters are stored in the weights \n",
    "print(weights)"
   ]
  },
  {
   "cell_type": "markdown",
   "id": "227ece34",
   "metadata": {},
   "source": [
    "# The Prediction model and results:\n",
    "\n",
    "\n"
   ]
  },
  {
   "cell_type": "code",
   "execution_count": 718,
   "id": "c15b16e3",
   "metadata": {},
   "outputs": [
    {
     "name": "stdout",
     "output_type": "stream",
     "text": [
      "0.06228931925144473\n"
     ]
    }
   ],
   "source": [
    "V=weights[0]\n",
    "b1=weights[1]\n",
    "W=weights[2]\n",
    "b2=weights[3]\n",
    "x=x_test\n",
    "y=y_test\n",
    "fordward=fordward_prop(x,V,b1,W,b2)\n",
    "fordward_new=np.array(fordward[0])\n",
    "new=define(fordward_new,y)    \n",
    "rsme=(new)**0.5\n",
    "print(rsme)\n",
    "\n"
   ]
  },
  {
   "cell_type": "markdown",
   "id": "46a8fc91",
   "metadata": {},
   "source": [
    "# So, We get a RMSE error of 0.062289 in our testing set and i.e. the conclusion of the Model"
   ]
  },
  {
   "cell_type": "code",
   "execution_count": null,
   "id": "b4d094e2",
   "metadata": {},
   "outputs": [],
   "source": []
  }
 ],
 "metadata": {
  "kernelspec": {
   "display_name": "Python 3 (ipykernel)",
   "language": "python",
   "name": "python3"
  },
  "language_info": {
   "codemirror_mode": {
    "name": "ipython",
    "version": 3
   },
   "file_extension": ".py",
   "mimetype": "text/x-python",
   "name": "python",
   "nbconvert_exporter": "python",
   "pygments_lexer": "ipython3",
   "version": "3.9.7"
  }
 },
 "nbformat": 4,
 "nbformat_minor": 5
}
